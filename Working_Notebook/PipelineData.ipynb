{
 "cells": [
  {
   "cell_type": "markdown",
   "metadata": {},
   "source": [
    "## Business Understanding"
   ]
  },
  {
   "cell_type": "markdown",
   "metadata": {},
   "source": [
    "Telecommunication services have expanded dramatically due to the growing demand among consumers as many businesses require telecommunication services in order to help their business expand. Which causes telecommunications to become one of the most competitive and fastest-growing industries in the globe. Despite that there are some policies to reduce the rivalry among big corporations, the competition among companies in telecom industry is getting intensified in recent years.\n",
    "In US, the telecom market continues to witness intense pricing competition. As one of the many telecom companies, SyriaTel is competing with other world top telecom companies such as AT&T, Verizon, Comcast, etc. and they are currently looking for a solution to retain as many customers as they can. However, they don’t know what are some of the reasons that could cause customers to leave. As a solution, we are going to make several predictive models to help SyriaTel to identify the potential churn customers using the recall score, and SyriaTel can take action before they churn. We're focusing on the recall score because we're looking to minimize the false negatives while also identifying churn candidates."
   ]
  },
  {
   "cell_type": "code",
   "execution_count": 91,
   "metadata": {},
   "outputs": [],
   "source": [
    "#importing relevant software libraries\n",
    "import pandas as pd\n",
    "from sklearn.preprocessing import OneHotEncoder, OrdinalEncoder\n",
    "from sklearn.model_selection import train_test_split\n",
    "from sklearn.dummy import DummyClassifier, DummyRegressor\n",
    "import numpy as np"
   ]
  },
  {
   "cell_type": "markdown",
   "metadata": {},
   "source": [
    "## Data Understanding"
   ]
  },
  {
   "cell_type": "markdown",
   "metadata": {},
   "source": [
    "We are sourcing the data for this project from the SyriaTel dataset, which can be found at [Syria Tel Dataset Link](https://www.kaggle.com/datasets/becksddf/churn-in-telecoms-dataset). In total, we reviewed 3,333 data points from this SyriaTel data set. Our visualizations can also be found seperately in the images folder located in this repository. We will analyze a list of variables from the SyriaTel data such as whether or not the customer has an international plan or voice mail plan, number of voicemail messages, total calling minutes, the state the customer lives in, and charge rates for each time of the day. Limitations of the data include possible overfitting, dealing with an outdated and a narrow data set, and possible outliers."
   ]
  },
  {
   "cell_type": "code",
   "execution_count": 92,
   "metadata": {},
   "outputs": [
    {
     "data": {
      "text/html": [
       "<div>\n",
       "<style scoped>\n",
       "    .dataframe tbody tr th:only-of-type {\n",
       "        vertical-align: middle;\n",
       "    }\n",
       "\n",
       "    .dataframe tbody tr th {\n",
       "        vertical-align: top;\n",
       "    }\n",
       "\n",
       "    .dataframe thead th {\n",
       "        text-align: right;\n",
       "    }\n",
       "</style>\n",
       "<table border=\"1\" class=\"dataframe\">\n",
       "  <thead>\n",
       "    <tr style=\"text-align: right;\">\n",
       "      <th></th>\n",
       "      <th>state</th>\n",
       "      <th>account length</th>\n",
       "      <th>area code</th>\n",
       "      <th>phone number</th>\n",
       "      <th>international plan</th>\n",
       "      <th>voice mail plan</th>\n",
       "      <th>number vmail messages</th>\n",
       "      <th>total day minutes</th>\n",
       "      <th>total day calls</th>\n",
       "      <th>total day charge</th>\n",
       "      <th>...</th>\n",
       "      <th>total eve calls</th>\n",
       "      <th>total eve charge</th>\n",
       "      <th>total night minutes</th>\n",
       "      <th>total night calls</th>\n",
       "      <th>total night charge</th>\n",
       "      <th>total intl minutes</th>\n",
       "      <th>total intl calls</th>\n",
       "      <th>total intl charge</th>\n",
       "      <th>customer service calls</th>\n",
       "      <th>churn</th>\n",
       "    </tr>\n",
       "  </thead>\n",
       "  <tbody>\n",
       "    <tr>\n",
       "      <th>0</th>\n",
       "      <td>KS</td>\n",
       "      <td>128</td>\n",
       "      <td>415</td>\n",
       "      <td>382-4657</td>\n",
       "      <td>no</td>\n",
       "      <td>yes</td>\n",
       "      <td>25</td>\n",
       "      <td>265.1</td>\n",
       "      <td>110</td>\n",
       "      <td>45.07</td>\n",
       "      <td>...</td>\n",
       "      <td>99</td>\n",
       "      <td>16.78</td>\n",
       "      <td>244.7</td>\n",
       "      <td>91</td>\n",
       "      <td>11.01</td>\n",
       "      <td>10.0</td>\n",
       "      <td>3</td>\n",
       "      <td>2.70</td>\n",
       "      <td>1</td>\n",
       "      <td>False</td>\n",
       "    </tr>\n",
       "    <tr>\n",
       "      <th>1</th>\n",
       "      <td>OH</td>\n",
       "      <td>107</td>\n",
       "      <td>415</td>\n",
       "      <td>371-7191</td>\n",
       "      <td>no</td>\n",
       "      <td>yes</td>\n",
       "      <td>26</td>\n",
       "      <td>161.6</td>\n",
       "      <td>123</td>\n",
       "      <td>27.47</td>\n",
       "      <td>...</td>\n",
       "      <td>103</td>\n",
       "      <td>16.62</td>\n",
       "      <td>254.4</td>\n",
       "      <td>103</td>\n",
       "      <td>11.45</td>\n",
       "      <td>13.7</td>\n",
       "      <td>3</td>\n",
       "      <td>3.70</td>\n",
       "      <td>1</td>\n",
       "      <td>False</td>\n",
       "    </tr>\n",
       "    <tr>\n",
       "      <th>2</th>\n",
       "      <td>NJ</td>\n",
       "      <td>137</td>\n",
       "      <td>415</td>\n",
       "      <td>358-1921</td>\n",
       "      <td>no</td>\n",
       "      <td>no</td>\n",
       "      <td>0</td>\n",
       "      <td>243.4</td>\n",
       "      <td>114</td>\n",
       "      <td>41.38</td>\n",
       "      <td>...</td>\n",
       "      <td>110</td>\n",
       "      <td>10.30</td>\n",
       "      <td>162.6</td>\n",
       "      <td>104</td>\n",
       "      <td>7.32</td>\n",
       "      <td>12.2</td>\n",
       "      <td>5</td>\n",
       "      <td>3.29</td>\n",
       "      <td>0</td>\n",
       "      <td>False</td>\n",
       "    </tr>\n",
       "    <tr>\n",
       "      <th>3</th>\n",
       "      <td>OH</td>\n",
       "      <td>84</td>\n",
       "      <td>408</td>\n",
       "      <td>375-9999</td>\n",
       "      <td>yes</td>\n",
       "      <td>no</td>\n",
       "      <td>0</td>\n",
       "      <td>299.4</td>\n",
       "      <td>71</td>\n",
       "      <td>50.90</td>\n",
       "      <td>...</td>\n",
       "      <td>88</td>\n",
       "      <td>5.26</td>\n",
       "      <td>196.9</td>\n",
       "      <td>89</td>\n",
       "      <td>8.86</td>\n",
       "      <td>6.6</td>\n",
       "      <td>7</td>\n",
       "      <td>1.78</td>\n",
       "      <td>2</td>\n",
       "      <td>False</td>\n",
       "    </tr>\n",
       "    <tr>\n",
       "      <th>4</th>\n",
       "      <td>OK</td>\n",
       "      <td>75</td>\n",
       "      <td>415</td>\n",
       "      <td>330-6626</td>\n",
       "      <td>yes</td>\n",
       "      <td>no</td>\n",
       "      <td>0</td>\n",
       "      <td>166.7</td>\n",
       "      <td>113</td>\n",
       "      <td>28.34</td>\n",
       "      <td>...</td>\n",
       "      <td>122</td>\n",
       "      <td>12.61</td>\n",
       "      <td>186.9</td>\n",
       "      <td>121</td>\n",
       "      <td>8.41</td>\n",
       "      <td>10.1</td>\n",
       "      <td>3</td>\n",
       "      <td>2.73</td>\n",
       "      <td>3</td>\n",
       "      <td>False</td>\n",
       "    </tr>\n",
       "    <tr>\n",
       "      <th>...</th>\n",
       "      <td>...</td>\n",
       "      <td>...</td>\n",
       "      <td>...</td>\n",
       "      <td>...</td>\n",
       "      <td>...</td>\n",
       "      <td>...</td>\n",
       "      <td>...</td>\n",
       "      <td>...</td>\n",
       "      <td>...</td>\n",
       "      <td>...</td>\n",
       "      <td>...</td>\n",
       "      <td>...</td>\n",
       "      <td>...</td>\n",
       "      <td>...</td>\n",
       "      <td>...</td>\n",
       "      <td>...</td>\n",
       "      <td>...</td>\n",
       "      <td>...</td>\n",
       "      <td>...</td>\n",
       "      <td>...</td>\n",
       "      <td>...</td>\n",
       "    </tr>\n",
       "    <tr>\n",
       "      <th>3328</th>\n",
       "      <td>AZ</td>\n",
       "      <td>192</td>\n",
       "      <td>415</td>\n",
       "      <td>414-4276</td>\n",
       "      <td>no</td>\n",
       "      <td>yes</td>\n",
       "      <td>36</td>\n",
       "      <td>156.2</td>\n",
       "      <td>77</td>\n",
       "      <td>26.55</td>\n",
       "      <td>...</td>\n",
       "      <td>126</td>\n",
       "      <td>18.32</td>\n",
       "      <td>279.1</td>\n",
       "      <td>83</td>\n",
       "      <td>12.56</td>\n",
       "      <td>9.9</td>\n",
       "      <td>6</td>\n",
       "      <td>2.67</td>\n",
       "      <td>2</td>\n",
       "      <td>False</td>\n",
       "    </tr>\n",
       "    <tr>\n",
       "      <th>3329</th>\n",
       "      <td>WV</td>\n",
       "      <td>68</td>\n",
       "      <td>415</td>\n",
       "      <td>370-3271</td>\n",
       "      <td>no</td>\n",
       "      <td>no</td>\n",
       "      <td>0</td>\n",
       "      <td>231.1</td>\n",
       "      <td>57</td>\n",
       "      <td>39.29</td>\n",
       "      <td>...</td>\n",
       "      <td>55</td>\n",
       "      <td>13.04</td>\n",
       "      <td>191.3</td>\n",
       "      <td>123</td>\n",
       "      <td>8.61</td>\n",
       "      <td>9.6</td>\n",
       "      <td>4</td>\n",
       "      <td>2.59</td>\n",
       "      <td>3</td>\n",
       "      <td>False</td>\n",
       "    </tr>\n",
       "    <tr>\n",
       "      <th>3330</th>\n",
       "      <td>RI</td>\n",
       "      <td>28</td>\n",
       "      <td>510</td>\n",
       "      <td>328-8230</td>\n",
       "      <td>no</td>\n",
       "      <td>no</td>\n",
       "      <td>0</td>\n",
       "      <td>180.8</td>\n",
       "      <td>109</td>\n",
       "      <td>30.74</td>\n",
       "      <td>...</td>\n",
       "      <td>58</td>\n",
       "      <td>24.55</td>\n",
       "      <td>191.9</td>\n",
       "      <td>91</td>\n",
       "      <td>8.64</td>\n",
       "      <td>14.1</td>\n",
       "      <td>6</td>\n",
       "      <td>3.81</td>\n",
       "      <td>2</td>\n",
       "      <td>False</td>\n",
       "    </tr>\n",
       "    <tr>\n",
       "      <th>3331</th>\n",
       "      <td>CT</td>\n",
       "      <td>184</td>\n",
       "      <td>510</td>\n",
       "      <td>364-6381</td>\n",
       "      <td>yes</td>\n",
       "      <td>no</td>\n",
       "      <td>0</td>\n",
       "      <td>213.8</td>\n",
       "      <td>105</td>\n",
       "      <td>36.35</td>\n",
       "      <td>...</td>\n",
       "      <td>84</td>\n",
       "      <td>13.57</td>\n",
       "      <td>139.2</td>\n",
       "      <td>137</td>\n",
       "      <td>6.26</td>\n",
       "      <td>5.0</td>\n",
       "      <td>10</td>\n",
       "      <td>1.35</td>\n",
       "      <td>2</td>\n",
       "      <td>False</td>\n",
       "    </tr>\n",
       "    <tr>\n",
       "      <th>3332</th>\n",
       "      <td>TN</td>\n",
       "      <td>74</td>\n",
       "      <td>415</td>\n",
       "      <td>400-4344</td>\n",
       "      <td>no</td>\n",
       "      <td>yes</td>\n",
       "      <td>25</td>\n",
       "      <td>234.4</td>\n",
       "      <td>113</td>\n",
       "      <td>39.85</td>\n",
       "      <td>...</td>\n",
       "      <td>82</td>\n",
       "      <td>22.60</td>\n",
       "      <td>241.4</td>\n",
       "      <td>77</td>\n",
       "      <td>10.86</td>\n",
       "      <td>13.7</td>\n",
       "      <td>4</td>\n",
       "      <td>3.70</td>\n",
       "      <td>0</td>\n",
       "      <td>False</td>\n",
       "    </tr>\n",
       "  </tbody>\n",
       "</table>\n",
       "<p>3333 rows × 21 columns</p>\n",
       "</div>"
      ],
      "text/plain": [
       "     state  account length  area code phone number international plan  \\\n",
       "0       KS             128        415     382-4657                 no   \n",
       "1       OH             107        415     371-7191                 no   \n",
       "2       NJ             137        415     358-1921                 no   \n",
       "3       OH              84        408     375-9999                yes   \n",
       "4       OK              75        415     330-6626                yes   \n",
       "...    ...             ...        ...          ...                ...   \n",
       "3328    AZ             192        415     414-4276                 no   \n",
       "3329    WV              68        415     370-3271                 no   \n",
       "3330    RI              28        510     328-8230                 no   \n",
       "3331    CT             184        510     364-6381                yes   \n",
       "3332    TN              74        415     400-4344                 no   \n",
       "\n",
       "     voice mail plan  number vmail messages  total day minutes  \\\n",
       "0                yes                     25              265.1   \n",
       "1                yes                     26              161.6   \n",
       "2                 no                      0              243.4   \n",
       "3                 no                      0              299.4   \n",
       "4                 no                      0              166.7   \n",
       "...              ...                    ...                ...   \n",
       "3328             yes                     36              156.2   \n",
       "3329              no                      0              231.1   \n",
       "3330              no                      0              180.8   \n",
       "3331              no                      0              213.8   \n",
       "3332             yes                     25              234.4   \n",
       "\n",
       "      total day calls  total day charge  ...  total eve calls  \\\n",
       "0                 110             45.07  ...               99   \n",
       "1                 123             27.47  ...              103   \n",
       "2                 114             41.38  ...              110   \n",
       "3                  71             50.90  ...               88   \n",
       "4                 113             28.34  ...              122   \n",
       "...               ...               ...  ...              ...   \n",
       "3328               77             26.55  ...              126   \n",
       "3329               57             39.29  ...               55   \n",
       "3330              109             30.74  ...               58   \n",
       "3331              105             36.35  ...               84   \n",
       "3332              113             39.85  ...               82   \n",
       "\n",
       "      total eve charge  total night minutes  total night calls  \\\n",
       "0                16.78                244.7                 91   \n",
       "1                16.62                254.4                103   \n",
       "2                10.30                162.6                104   \n",
       "3                 5.26                196.9                 89   \n",
       "4                12.61                186.9                121   \n",
       "...                ...                  ...                ...   \n",
       "3328             18.32                279.1                 83   \n",
       "3329             13.04                191.3                123   \n",
       "3330             24.55                191.9                 91   \n",
       "3331             13.57                139.2                137   \n",
       "3332             22.60                241.4                 77   \n",
       "\n",
       "      total night charge  total intl minutes  total intl calls  \\\n",
       "0                  11.01                10.0                 3   \n",
       "1                  11.45                13.7                 3   \n",
       "2                   7.32                12.2                 5   \n",
       "3                   8.86                 6.6                 7   \n",
       "4                   8.41                10.1                 3   \n",
       "...                  ...                 ...               ...   \n",
       "3328               12.56                 9.9                 6   \n",
       "3329                8.61                 9.6                 4   \n",
       "3330                8.64                14.1                 6   \n",
       "3331                6.26                 5.0                10   \n",
       "3332               10.86                13.7                 4   \n",
       "\n",
       "      total intl charge  customer service calls  churn  \n",
       "0                  2.70                       1  False  \n",
       "1                  3.70                       1  False  \n",
       "2                  3.29                       0  False  \n",
       "3                  1.78                       2  False  \n",
       "4                  2.73                       3  False  \n",
       "...                 ...                     ...    ...  \n",
       "3328               2.67                       2  False  \n",
       "3329               2.59                       3  False  \n",
       "3330               3.81                       2  False  \n",
       "3331               1.35                       2  False  \n",
       "3332               3.70                       0  False  \n",
       "\n",
       "[3333 rows x 21 columns]"
      ]
     },
     "execution_count": 92,
     "metadata": {},
     "output_type": "execute_result"
    }
   ],
   "source": [
    "#importing our data set\n",
    "df = pd.read_csv('../data/bigml_59c28831336c6604c800002a.csv')\n",
    "df"
   ]
  },
  {
   "cell_type": "markdown",
   "metadata": {},
   "source": [
    "We are dropping the phone number and area code column because we believe it lacks mathematical or statistical meaning."
   ]
  },
  {
   "cell_type": "code",
   "execution_count": 93,
   "metadata": {},
   "outputs": [],
   "source": [
    "##dropping irrelevant columns\n",
    "df = df.drop(columns = ['phone number', 'area code'])"
   ]
  },
  {
   "cell_type": "markdown",
   "metadata": {},
   "source": [
    "## Creating 5 new features, total minutes and average rate per minute by each timeframe "
   ]
  },
  {
   "cell_type": "code",
   "execution_count": 94,
   "metadata": {},
   "outputs": [],
   "source": [
    "df['average_night_rate_by_min'] = df['total night charge'] / df['total night minutes']"
   ]
  },
  {
   "cell_type": "code",
   "execution_count": 95,
   "metadata": {},
   "outputs": [],
   "source": [
    "df['average_day_rate_by_min'] = df['total day charge'] / df['total day minutes'] "
   ]
  },
  {
   "cell_type": "code",
   "execution_count": 96,
   "metadata": {},
   "outputs": [],
   "source": [
    "df['average_intl_rate_by_min'] = df['total intl charge'] / df['total intl minutes']"
   ]
  },
  {
   "cell_type": "code",
   "execution_count": 97,
   "metadata": {},
   "outputs": [],
   "source": [
    "df['average_eve_rate_by_min'] = df['total eve charge'] / df['total eve minutes']"
   ]
  },
  {
   "cell_type": "code",
   "execution_count": 98,
   "metadata": {},
   "outputs": [],
   "source": [
    "df['total_minutes'] = df['total night minutes'] + df['total day minutes'] + df['total intl minutes'] + df['total eve minutes']"
   ]
  },
  {
   "cell_type": "code",
   "execution_count": 99,
   "metadata": {},
   "outputs": [],
   "source": [
    "#dropping rows with null values\n",
    "df.dropna(axis=0, inplace=True)"
   ]
  },
  {
   "cell_type": "code",
   "execution_count": 100,
   "metadata": {},
   "outputs": [],
   "source": [
    "##defining our X and target variable before train test split\n",
    "X = df.drop('churn', axis=1)\n",
    "y = df['churn']"
   ]
  },
  {
   "cell_type": "code",
   "execution_count": 101,
   "metadata": {},
   "outputs": [],
   "source": [
    "#Running our train test split\n",
    "X_train, X_test, y_train, y_test = train_test_split(X, y, random_state=42)"
   ]
  },
  {
   "cell_type": "code",
   "execution_count": 102,
   "metadata": {
    "scrolled": false
   },
   "outputs": [
    {
     "data": {
      "text/html": [
       "<div>\n",
       "<style scoped>\n",
       "    .dataframe tbody tr th:only-of-type {\n",
       "        vertical-align: middle;\n",
       "    }\n",
       "\n",
       "    .dataframe tbody tr th {\n",
       "        vertical-align: top;\n",
       "    }\n",
       "\n",
       "    .dataframe thead th {\n",
       "        text-align: right;\n",
       "    }\n",
       "</style>\n",
       "<table border=\"1\" class=\"dataframe\">\n",
       "  <thead>\n",
       "    <tr style=\"text-align: right;\">\n",
       "      <th></th>\n",
       "      <th>state</th>\n",
       "      <th>account length</th>\n",
       "      <th>international plan</th>\n",
       "      <th>voice mail plan</th>\n",
       "      <th>number vmail messages</th>\n",
       "      <th>total day minutes</th>\n",
       "      <th>total day calls</th>\n",
       "      <th>total day charge</th>\n",
       "      <th>total eve minutes</th>\n",
       "      <th>total eve calls</th>\n",
       "      <th>...</th>\n",
       "      <th>total night charge</th>\n",
       "      <th>total intl minutes</th>\n",
       "      <th>total intl calls</th>\n",
       "      <th>total intl charge</th>\n",
       "      <th>customer service calls</th>\n",
       "      <th>average_night_rate_by_min</th>\n",
       "      <th>average_day_rate_by_min</th>\n",
       "      <th>average_intl_rate_by_min</th>\n",
       "      <th>average_eve_rate_by_min</th>\n",
       "      <th>total_minutes</th>\n",
       "    </tr>\n",
       "  </thead>\n",
       "  <tbody>\n",
       "    <tr>\n",
       "      <th>228</th>\n",
       "      <td>VA</td>\n",
       "      <td>104</td>\n",
       "      <td>no</td>\n",
       "      <td>yes</td>\n",
       "      <td>23</td>\n",
       "      <td>280.2</td>\n",
       "      <td>136</td>\n",
       "      <td>47.63</td>\n",
       "      <td>220.5</td>\n",
       "      <td>92</td>\n",
       "      <td>...</td>\n",
       "      <td>6.16</td>\n",
       "      <td>13.3</td>\n",
       "      <td>3</td>\n",
       "      <td>3.59</td>\n",
       "      <td>4</td>\n",
       "      <td>0.044996</td>\n",
       "      <td>0.169986</td>\n",
       "      <td>0.269925</td>\n",
       "      <td>0.084989</td>\n",
       "      <td>650.9</td>\n",
       "    </tr>\n",
       "    <tr>\n",
       "      <th>367</th>\n",
       "      <td>MD</td>\n",
       "      <td>45</td>\n",
       "      <td>no</td>\n",
       "      <td>no</td>\n",
       "      <td>0</td>\n",
       "      <td>78.2</td>\n",
       "      <td>127</td>\n",
       "      <td>13.29</td>\n",
       "      <td>253.4</td>\n",
       "      <td>108</td>\n",
       "      <td>...</td>\n",
       "      <td>11.48</td>\n",
       "      <td>18.0</td>\n",
       "      <td>3</td>\n",
       "      <td>4.86</td>\n",
       "      <td>1</td>\n",
       "      <td>0.045020</td>\n",
       "      <td>0.169949</td>\n",
       "      <td>0.270000</td>\n",
       "      <td>0.085004</td>\n",
       "      <td>604.6</td>\n",
       "    </tr>\n",
       "    <tr>\n",
       "      <th>872</th>\n",
       "      <td>OK</td>\n",
       "      <td>149</td>\n",
       "      <td>no</td>\n",
       "      <td>yes</td>\n",
       "      <td>43</td>\n",
       "      <td>206.7</td>\n",
       "      <td>79</td>\n",
       "      <td>35.14</td>\n",
       "      <td>174.6</td>\n",
       "      <td>122</td>\n",
       "      <td>...</td>\n",
       "      <td>10.87</td>\n",
       "      <td>10.9</td>\n",
       "      <td>3</td>\n",
       "      <td>2.94</td>\n",
       "      <td>1</td>\n",
       "      <td>0.045010</td>\n",
       "      <td>0.170005</td>\n",
       "      <td>0.269725</td>\n",
       "      <td>0.084994</td>\n",
       "      <td>633.7</td>\n",
       "    </tr>\n",
       "    <tr>\n",
       "      <th>1266</th>\n",
       "      <td>IA</td>\n",
       "      <td>42</td>\n",
       "      <td>no</td>\n",
       "      <td>no</td>\n",
       "      <td>0</td>\n",
       "      <td>155.4</td>\n",
       "      <td>127</td>\n",
       "      <td>26.42</td>\n",
       "      <td>164.1</td>\n",
       "      <td>45</td>\n",
       "      <td>...</td>\n",
       "      <td>7.10</td>\n",
       "      <td>9.0</td>\n",
       "      <td>3</td>\n",
       "      <td>2.43</td>\n",
       "      <td>0</td>\n",
       "      <td>0.045022</td>\n",
       "      <td>0.170013</td>\n",
       "      <td>0.270000</td>\n",
       "      <td>0.085009</td>\n",
       "      <td>486.2</td>\n",
       "    </tr>\n",
       "    <tr>\n",
       "      <th>277</th>\n",
       "      <td>SD</td>\n",
       "      <td>144</td>\n",
       "      <td>no</td>\n",
       "      <td>yes</td>\n",
       "      <td>48</td>\n",
       "      <td>189.8</td>\n",
       "      <td>96</td>\n",
       "      <td>32.27</td>\n",
       "      <td>123.4</td>\n",
       "      <td>67</td>\n",
       "      <td>...</td>\n",
       "      <td>9.64</td>\n",
       "      <td>6.5</td>\n",
       "      <td>2</td>\n",
       "      <td>1.76</td>\n",
       "      <td>2</td>\n",
       "      <td>0.045005</td>\n",
       "      <td>0.170021</td>\n",
       "      <td>0.270769</td>\n",
       "      <td>0.085008</td>\n",
       "      <td>533.9</td>\n",
       "    </tr>\n",
       "    <tr>\n",
       "      <th>...</th>\n",
       "      <td>...</td>\n",
       "      <td>...</td>\n",
       "      <td>...</td>\n",
       "      <td>...</td>\n",
       "      <td>...</td>\n",
       "      <td>...</td>\n",
       "      <td>...</td>\n",
       "      <td>...</td>\n",
       "      <td>...</td>\n",
       "      <td>...</td>\n",
       "      <td>...</td>\n",
       "      <td>...</td>\n",
       "      <td>...</td>\n",
       "      <td>...</td>\n",
       "      <td>...</td>\n",
       "      <td>...</td>\n",
       "      <td>...</td>\n",
       "      <td>...</td>\n",
       "      <td>...</td>\n",
       "      <td>...</td>\n",
       "      <td>...</td>\n",
       "    </tr>\n",
       "    <tr>\n",
       "      <th>1103</th>\n",
       "      <td>KS</td>\n",
       "      <td>52</td>\n",
       "      <td>no</td>\n",
       "      <td>no</td>\n",
       "      <td>0</td>\n",
       "      <td>165.5</td>\n",
       "      <td>78</td>\n",
       "      <td>28.14</td>\n",
       "      <td>205.5</td>\n",
       "      <td>89</td>\n",
       "      <td>...</td>\n",
       "      <td>9.61</td>\n",
       "      <td>12.2</td>\n",
       "      <td>6</td>\n",
       "      <td>3.29</td>\n",
       "      <td>0</td>\n",
       "      <td>0.044991</td>\n",
       "      <td>0.170030</td>\n",
       "      <td>0.269672</td>\n",
       "      <td>0.085012</td>\n",
       "      <td>596.8</td>\n",
       "    </tr>\n",
       "    <tr>\n",
       "      <th>1138</th>\n",
       "      <td>MA</td>\n",
       "      <td>46</td>\n",
       "      <td>no</td>\n",
       "      <td>no</td>\n",
       "      <td>0</td>\n",
       "      <td>139.4</td>\n",
       "      <td>81</td>\n",
       "      <td>23.70</td>\n",
       "      <td>223.7</td>\n",
       "      <td>113</td>\n",
       "      <td>...</td>\n",
       "      <td>7.79</td>\n",
       "      <td>13.6</td>\n",
       "      <td>6</td>\n",
       "      <td>3.67</td>\n",
       "      <td>1</td>\n",
       "      <td>0.045003</td>\n",
       "      <td>0.170014</td>\n",
       "      <td>0.269853</td>\n",
       "      <td>0.084980</td>\n",
       "      <td>549.8</td>\n",
       "    </tr>\n",
       "    <tr>\n",
       "      <th>1302</th>\n",
       "      <td>WA</td>\n",
       "      <td>171</td>\n",
       "      <td>no</td>\n",
       "      <td>no</td>\n",
       "      <td>0</td>\n",
       "      <td>270.5</td>\n",
       "      <td>69</td>\n",
       "      <td>45.99</td>\n",
       "      <td>230.0</td>\n",
       "      <td>112</td>\n",
       "      <td>...</td>\n",
       "      <td>6.12</td>\n",
       "      <td>9.6</td>\n",
       "      <td>5</td>\n",
       "      <td>2.59</td>\n",
       "      <td>1</td>\n",
       "      <td>0.045000</td>\n",
       "      <td>0.170018</td>\n",
       "      <td>0.269792</td>\n",
       "      <td>0.085000</td>\n",
       "      <td>646.1</td>\n",
       "    </tr>\n",
       "    <tr>\n",
       "      <th>865</th>\n",
       "      <td>MD</td>\n",
       "      <td>52</td>\n",
       "      <td>no</td>\n",
       "      <td>no</td>\n",
       "      <td>0</td>\n",
       "      <td>209.8</td>\n",
       "      <td>114</td>\n",
       "      <td>35.67</td>\n",
       "      <td>171.3</td>\n",
       "      <td>82</td>\n",
       "      <td>...</td>\n",
       "      <td>6.96</td>\n",
       "      <td>9.9</td>\n",
       "      <td>9</td>\n",
       "      <td>2.67</td>\n",
       "      <td>4</td>\n",
       "      <td>0.045019</td>\n",
       "      <td>0.170019</td>\n",
       "      <td>0.269697</td>\n",
       "      <td>0.084997</td>\n",
       "      <td>545.6</td>\n",
       "    </tr>\n",
       "    <tr>\n",
       "      <th>3193</th>\n",
       "      <td>IA</td>\n",
       "      <td>88</td>\n",
       "      <td>no</td>\n",
       "      <td>no</td>\n",
       "      <td>0</td>\n",
       "      <td>113.7</td>\n",
       "      <td>67</td>\n",
       "      <td>19.33</td>\n",
       "      <td>165.1</td>\n",
       "      <td>127</td>\n",
       "      <td>...</td>\n",
       "      <td>6.37</td>\n",
       "      <td>10.8</td>\n",
       "      <td>3</td>\n",
       "      <td>2.92</td>\n",
       "      <td>1</td>\n",
       "      <td>0.045018</td>\n",
       "      <td>0.170009</td>\n",
       "      <td>0.270370</td>\n",
       "      <td>0.084979</td>\n",
       "      <td>431.1</td>\n",
       "    </tr>\n",
       "  </tbody>\n",
       "</table>\n",
       "<p>2484 rows × 23 columns</p>\n",
       "</div>"
      ],
      "text/plain": [
       "     state  account length international plan voice mail plan  \\\n",
       "228     VA             104                 no             yes   \n",
       "367     MD              45                 no              no   \n",
       "872     OK             149                 no             yes   \n",
       "1266    IA              42                 no              no   \n",
       "277     SD             144                 no             yes   \n",
       "...    ...             ...                ...             ...   \n",
       "1103    KS              52                 no              no   \n",
       "1138    MA              46                 no              no   \n",
       "1302    WA             171                 no              no   \n",
       "865     MD              52                 no              no   \n",
       "3193    IA              88                 no              no   \n",
       "\n",
       "      number vmail messages  total day minutes  total day calls  \\\n",
       "228                      23              280.2              136   \n",
       "367                       0               78.2              127   \n",
       "872                      43              206.7               79   \n",
       "1266                      0              155.4              127   \n",
       "277                      48              189.8               96   \n",
       "...                     ...                ...              ...   \n",
       "1103                      0              165.5               78   \n",
       "1138                      0              139.4               81   \n",
       "1302                      0              270.5               69   \n",
       "865                       0              209.8              114   \n",
       "3193                      0              113.7               67   \n",
       "\n",
       "      total day charge  total eve minutes  total eve calls  ...  \\\n",
       "228              47.63              220.5               92  ...   \n",
       "367              13.29              253.4              108  ...   \n",
       "872              35.14              174.6              122  ...   \n",
       "1266             26.42              164.1               45  ...   \n",
       "277              32.27              123.4               67  ...   \n",
       "...                ...                ...              ...  ...   \n",
       "1103             28.14              205.5               89  ...   \n",
       "1138             23.70              223.7              113  ...   \n",
       "1302             45.99              230.0              112  ...   \n",
       "865              35.67              171.3               82  ...   \n",
       "3193             19.33              165.1              127  ...   \n",
       "\n",
       "      total night charge  total intl minutes  total intl calls  \\\n",
       "228                 6.16                13.3                 3   \n",
       "367                11.48                18.0                 3   \n",
       "872                10.87                10.9                 3   \n",
       "1266                7.10                 9.0                 3   \n",
       "277                 9.64                 6.5                 2   \n",
       "...                  ...                 ...               ...   \n",
       "1103                9.61                12.2                 6   \n",
       "1138                7.79                13.6                 6   \n",
       "1302                6.12                 9.6                 5   \n",
       "865                 6.96                 9.9                 9   \n",
       "3193                6.37                10.8                 3   \n",
       "\n",
       "      total intl charge  customer service calls  average_night_rate_by_min  \\\n",
       "228                3.59                       4                   0.044996   \n",
       "367                4.86                       1                   0.045020   \n",
       "872                2.94                       1                   0.045010   \n",
       "1266               2.43                       0                   0.045022   \n",
       "277                1.76                       2                   0.045005   \n",
       "...                 ...                     ...                        ...   \n",
       "1103               3.29                       0                   0.044991   \n",
       "1138               3.67                       1                   0.045003   \n",
       "1302               2.59                       1                   0.045000   \n",
       "865                2.67                       4                   0.045019   \n",
       "3193               2.92                       1                   0.045018   \n",
       "\n",
       "      average_day_rate_by_min  average_intl_rate_by_min  \\\n",
       "228                  0.169986                  0.269925   \n",
       "367                  0.169949                  0.270000   \n",
       "872                  0.170005                  0.269725   \n",
       "1266                 0.170013                  0.270000   \n",
       "277                  0.170021                  0.270769   \n",
       "...                       ...                       ...   \n",
       "1103                 0.170030                  0.269672   \n",
       "1138                 0.170014                  0.269853   \n",
       "1302                 0.170018                  0.269792   \n",
       "865                  0.170019                  0.269697   \n",
       "3193                 0.170009                  0.270370   \n",
       "\n",
       "      average_eve_rate_by_min  total_minutes  \n",
       "228                  0.084989          650.9  \n",
       "367                  0.085004          604.6  \n",
       "872                  0.084994          633.7  \n",
       "1266                 0.085009          486.2  \n",
       "277                  0.085008          533.9  \n",
       "...                       ...            ...  \n",
       "1103                 0.085012          596.8  \n",
       "1138                 0.084980          549.8  \n",
       "1302                 0.085000          646.1  \n",
       "865                  0.084997          545.6  \n",
       "3193                 0.084979          431.1  \n",
       "\n",
       "[2484 rows x 23 columns]"
      ]
     },
     "execution_count": 102,
     "metadata": {},
     "output_type": "execute_result"
    }
   ],
   "source": [
    "X_train"
   ]
  },
  {
   "cell_type": "code",
   "execution_count": 103,
   "metadata": {},
   "outputs": [
    {
     "data": {
      "text/plain": [
       "False    2116\n",
       "True      368\n",
       "Name: churn, dtype: int64"
      ]
     },
     "execution_count": 103,
     "metadata": {},
     "output_type": "execute_result"
    }
   ],
   "source": [
    "#noticing our data imbalance, will need to use SMOTE in modeling notebook\n",
    "y_train.value_counts()"
   ]
  },
  {
   "cell_type": "code",
   "execution_count": 104,
   "metadata": {},
   "outputs": [],
   "source": [
    "###concatenating our independent variables with our target\n",
    "training_data = pd.concat([X_train, y_train], axis=1)\n",
    "testing_data = pd.concat([X_test, y_test], axis=1)"
   ]
  },
  {
   "cell_type": "code",
   "execution_count": 105,
   "metadata": {},
   "outputs": [],
   "source": [
    "#saved training_data\n",
    "training_data.to_csv('final_training_data.csv')"
   ]
  },
  {
   "cell_type": "code",
   "execution_count": 106,
   "metadata": {},
   "outputs": [],
   "source": [
    "#saved  testing_data\n",
    "testing_data.to_csv('final_testing_data.csv')"
   ]
  },
  {
   "cell_type": "markdown",
   "metadata": {},
   "source": [
    "## EDA Churn rates for int plan, voice mail plan, customer service calls, total minutes"
   ]
  },
  {
   "cell_type": "code",
   "execution_count": 107,
   "metadata": {},
   "outputs": [
    {
     "data": {
      "text/plain": [
       "False    2116\n",
       "True      368\n",
       "Name: churn, dtype: int64"
      ]
     },
     "execution_count": 107,
     "metadata": {},
     "output_type": "execute_result"
    }
   ],
   "source": [
    "y_train.value_counts()"
   ]
  },
  {
   "cell_type": "code",
   "execution_count": 108,
   "metadata": {},
   "outputs": [
    {
     "data": {
      "text/plain": [
       "0.14814814814814814"
      ]
     },
     "execution_count": 108,
     "metadata": {},
     "output_type": "execute_result"
    }
   ],
   "source": [
    "#training data churn rate\n",
    "dataset_churn = (368/ 2484)\n",
    "dataset_churn"
   ]
  },
  {
   "cell_type": "code",
   "execution_count": 109,
   "metadata": {
    "scrolled": false
   },
   "outputs": [],
   "source": [
    "intplan_yes = training_data.loc[training_data['international plan'] =='yes']\n"
   ]
  },
  {
   "cell_type": "code",
   "execution_count": 110,
   "metadata": {
    "scrolled": true
   },
   "outputs": [
    {
     "data": {
      "text/plain": [
       "False    137\n",
       "True      99\n",
       "Name: churn, dtype: int64"
      ]
     },
     "execution_count": 110,
     "metadata": {},
     "output_type": "execute_result"
    }
   ],
   "source": [
    "intplan_yes['churn'].value_counts()"
   ]
  },
  {
   "cell_type": "code",
   "execution_count": 111,
   "metadata": {},
   "outputs": [
    {
     "data": {
      "text/plain": [
       "0.4194915254237288"
      ]
     },
     "execution_count": 111,
     "metadata": {},
     "output_type": "execute_result"
    }
   ],
   "source": [
    "#having an international plan churn rate\n",
    "intplan_yes_churn = (99 /236)\n",
    "intplan_yes_churn"
   ]
  },
  {
   "cell_type": "code",
   "execution_count": 112,
   "metadata": {
    "scrolled": true
   },
   "outputs": [],
   "source": [
    "intplan_no = training_data.loc[training_data['international plan'] =='no']\n"
   ]
  },
  {
   "cell_type": "code",
   "execution_count": 113,
   "metadata": {},
   "outputs": [
    {
     "data": {
      "text/plain": [
       "False    1979\n",
       "True      269\n",
       "Name: churn, dtype: int64"
      ]
     },
     "execution_count": 113,
     "metadata": {},
     "output_type": "execute_result"
    }
   ],
   "source": [
    "intplan_no['churn'].value_counts()"
   ]
  },
  {
   "cell_type": "code",
   "execution_count": 114,
   "metadata": {},
   "outputs": [
    {
     "data": {
      "text/plain": [
       "0.11966192170818506"
      ]
     },
     "execution_count": 114,
     "metadata": {},
     "output_type": "execute_result"
    }
   ],
   "source": [
    "#not having an international plan churn rate\n",
    "intplan_no_churn = (269 / 2248)\n",
    "intplan_no_churn"
   ]
  },
  {
   "cell_type": "code",
   "execution_count": 115,
   "metadata": {},
   "outputs": [],
   "source": [
    "voicemailplan_yes = training_data.loc[training_data['voice mail plan'] =='yes']"
   ]
  },
  {
   "cell_type": "code",
   "execution_count": 116,
   "metadata": {
    "scrolled": true
   },
   "outputs": [
    {
     "data": {
      "text/plain": [
       "False    626\n",
       "True      61\n",
       "Name: churn, dtype: int64"
      ]
     },
     "execution_count": 116,
     "metadata": {},
     "output_type": "execute_result"
    }
   ],
   "source": [
    "voicemailplan_yes['churn'].value_counts()"
   ]
  },
  {
   "cell_type": "code",
   "execution_count": 117,
   "metadata": {},
   "outputs": [
    {
     "data": {
      "text/plain": [
       "0.08879184861717612"
      ]
     },
     "execution_count": 117,
     "metadata": {},
     "output_type": "execute_result"
    }
   ],
   "source": [
    "#having a voicemail plan churn rate\n",
    "voicemailplan_yes_churn = (61 / 687)\n",
    "voicemailplan_yes_churn"
   ]
  },
  {
   "cell_type": "code",
   "execution_count": 118,
   "metadata": {},
   "outputs": [],
   "source": [
    "voicemailplan_no = training_data.loc[training_data['voice mail plan'] =='no']"
   ]
  },
  {
   "cell_type": "code",
   "execution_count": 119,
   "metadata": {},
   "outputs": [
    {
     "data": {
      "text/plain": [
       "False    1490\n",
       "True      307\n",
       "Name: churn, dtype: int64"
      ]
     },
     "execution_count": 119,
     "metadata": {},
     "output_type": "execute_result"
    }
   ],
   "source": [
    "voicemailplan_no['churn'].value_counts()"
   ]
  },
  {
   "cell_type": "code",
   "execution_count": 120,
   "metadata": {},
   "outputs": [
    {
     "data": {
      "text/plain": [
       "0.17084028937117418"
      ]
     },
     "execution_count": 120,
     "metadata": {},
     "output_type": "execute_result"
    }
   ],
   "source": [
    "#not having a voicemail plan churn rate\n",
    "voicemailplan_no_churn = (307/ 1797)\n",
    "voicemailplan_no_churn"
   ]
  },
  {
   "cell_type": "code",
   "execution_count": 121,
   "metadata": {},
   "outputs": [],
   "source": [
    "customerserv_ = training_data.loc[training_data['customer service calls'] > 1]"
   ]
  },
  {
   "cell_type": "code",
   "execution_count": 122,
   "metadata": {},
   "outputs": [
    {
     "data": {
      "text/plain": [
       "False    894\n",
       "True     201\n",
       "Name: churn, dtype: int64"
      ]
     },
     "execution_count": 122,
     "metadata": {},
     "output_type": "execute_result"
    }
   ],
   "source": [
    "customerserv_['churn'].value_counts()"
   ]
  },
  {
   "cell_type": "code",
   "execution_count": 123,
   "metadata": {},
   "outputs": [
    {
     "data": {
      "text/plain": [
       "0.18356164383561643"
      ]
     },
     "execution_count": 123,
     "metadata": {},
     "output_type": "execute_result"
    }
   ],
   "source": [
    "#having 2 or more customer service calls churn rate\n",
    "customerserv_yes_churn = (201 / 1095)\n",
    "customerserv_yes_churn"
   ]
  },
  {
   "cell_type": "code",
   "execution_count": 124,
   "metadata": {},
   "outputs": [],
   "source": [
    "customerserv_no = training_data.loc[training_data['customer service calls'] <= 1]"
   ]
  },
  {
   "cell_type": "code",
   "execution_count": 125,
   "metadata": {},
   "outputs": [
    {
     "data": {
      "text/plain": [
       "False    1222\n",
       "True      167\n",
       "Name: churn, dtype: int64"
      ]
     },
     "execution_count": 125,
     "metadata": {},
     "output_type": "execute_result"
    }
   ],
   "source": [
    "customerserv_no['churn'].value_counts()"
   ]
  },
  {
   "cell_type": "code",
   "execution_count": 126,
   "metadata": {},
   "outputs": [
    {
     "data": {
      "text/plain": [
       "0.12023038156947444"
      ]
     },
     "execution_count": 126,
     "metadata": {},
     "output_type": "execute_result"
    }
   ],
   "source": [
    "#having 0 or 1 customer service calls churn rate\n",
    "customerserv_no_churn = (167 / 1389)\n",
    "customerserv_no_churn"
   ]
  },
  {
   "cell_type": "code",
   "execution_count": 127,
   "metadata": {},
   "outputs": [
    {
     "data": {
      "text/plain": [
       "count    2484.000000\n",
       "mean      591.556441\n",
       "std        90.381246\n",
       "min       284.300000\n",
       "25%       530.675000\n",
       "50%       593.150000\n",
       "75%       652.100000\n",
       "max       885.000000\n",
       "Name: total_minutes, dtype: float64"
      ]
     },
     "execution_count": 127,
     "metadata": {},
     "output_type": "execute_result"
    }
   ],
   "source": [
    "training_data['total_minutes'].describe()"
   ]
  },
  {
   "cell_type": "code",
   "execution_count": 128,
   "metadata": {},
   "outputs": [],
   "source": [
    "#used mean total minutes\n",
    "totalminutes_ = training_data.loc[training_data['total_minutes'] > 591.556441]"
   ]
  },
  {
   "cell_type": "code",
   "execution_count": 129,
   "metadata": {},
   "outputs": [
    {
     "data": {
      "text/plain": [
       "False    1032\n",
       "True      230\n",
       "Name: churn, dtype: int64"
      ]
     },
     "execution_count": 129,
     "metadata": {},
     "output_type": "execute_result"
    }
   ],
   "source": [
    "totalminutes_['churn'].value_counts()"
   ]
  },
  {
   "cell_type": "code",
   "execution_count": 130,
   "metadata": {},
   "outputs": [
    {
     "data": {
      "text/plain": [
       "0.18225039619651348"
      ]
     },
     "execution_count": 130,
     "metadata": {},
     "output_type": "execute_result"
    }
   ],
   "source": [
    "#having total minutes above the mean churn rate\n",
    "totalminutes_yes_churn = (230 / 1262)\n",
    "totalminutes_yes_churn"
   ]
  },
  {
   "cell_type": "code",
   "execution_count": 131,
   "metadata": {},
   "outputs": [],
   "source": [
    "totalminutes_no = training_data.loc[training_data['total_minutes'] < 591.556441]"
   ]
  },
  {
   "cell_type": "code",
   "execution_count": 132,
   "metadata": {},
   "outputs": [
    {
     "data": {
      "text/plain": [
       "False    1084\n",
       "True      138\n",
       "Name: churn, dtype: int64"
      ]
     },
     "execution_count": 132,
     "metadata": {},
     "output_type": "execute_result"
    }
   ],
   "source": [
    "totalminutes_no['churn'].value_counts()"
   ]
  },
  {
   "cell_type": "code",
   "execution_count": 133,
   "metadata": {},
   "outputs": [
    {
     "data": {
      "text/plain": [
       "0.11292962356792144"
      ]
     },
     "execution_count": 133,
     "metadata": {},
     "output_type": "execute_result"
    }
   ],
   "source": [
    "#having total minutes below the mean churn rate\n",
    "totalminutes_no_churn = (138 / 1222)\n",
    "totalminutes_no_churn"
   ]
  }
 ],
 "metadata": {
  "kernelspec": {
   "display_name": "Python (learn-env)",
   "language": "python",
   "name": "learn-env"
  },
  "language_info": {
   "codemirror_mode": {
    "name": "ipython",
    "version": 3
   },
   "file_extension": ".py",
   "mimetype": "text/x-python",
   "name": "python",
   "nbconvert_exporter": "python",
   "pygments_lexer": "ipython3",
   "version": "3.8.5"
  }
 },
 "nbformat": 4,
 "nbformat_minor": 4
}
